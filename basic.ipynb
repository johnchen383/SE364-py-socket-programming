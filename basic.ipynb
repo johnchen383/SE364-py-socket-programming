{
 "cells": [
  {
   "cell_type": "code",
   "execution_count": 12,
   "metadata": {},
   "outputs": [],
   "source": [
    "import socket"
   ]
  },
  {
   "cell_type": "code",
   "execution_count": 13,
   "metadata": {},
   "outputs": [
    {
     "name": "stdout",
     "output_type": "stream",
     "text": [
      "LAPTOP-72BLLCD0\n"
     ]
    }
   ],
   "source": [
    "host_name = socket.gethostname()\n",
    "print(host_name)"
   ]
  },
  {
   "cell_type": "code",
   "execution_count": 14,
   "metadata": {},
   "outputs": [
    {
     "name": "stdout",
     "output_type": "stream",
     "text": [
      "172.23.117.235\n"
     ]
    }
   ],
   "source": [
    "# get ip address of local machine\n",
    "ip_address = socket.gethostbyname(host_name)\n",
    "print(ip_address)"
   ]
  },
  {
   "cell_type": "code",
   "execution_count": 15,
   "metadata": {},
   "outputs": [
    {
     "name": "stdout",
     "output_type": "stream",
     "text": [
      "142.250.76.100\n"
     ]
    }
   ],
   "source": [
    "# get ip address of a remote machine\n",
    "remote_ip = socket.gethostbyname('www.google.com')\n",
    "print(remote_ip)"
   ]
  },
  {
   "cell_type": "code",
   "execution_count": 16,
   "metadata": {},
   "outputs": [
    {
     "name": "stdout",
     "output_type": "stream",
     "text": [
      "b'\\xac\\x17u\\xeb'\n"
     ]
    }
   ],
   "source": [
    "# converting IPv4 address to different formats\n",
    "packed_ip = socket.inet_aton(ip_address)\n",
    "print(packed_ip)"
   ]
  },
  {
   "cell_type": "code",
   "execution_count": 17,
   "metadata": {},
   "outputs": [
    {
     "name": "stdout",
     "output_type": "stream",
     "text": [
      "172.23.117.235\n"
     ]
    }
   ],
   "source": [
    "unpacked_ip = socket.inet_ntoa(packed_ip)\n",
    "print(unpacked_ip)"
   ]
  },
  {
   "cell_type": "code",
   "execution_count": 18,
   "metadata": {},
   "outputs": [
    {
     "name": "stdout",
     "output_type": "stream",
     "text": [
      "http\n"
     ]
    }
   ],
   "source": [
    "# finding a service name using port and protocol\n",
    "print(socket.getservbyport(80, 'tcp'))"
   ]
  },
  {
   "cell_type": "code",
   "execution_count": 19,
   "metadata": {},
   "outputs": [
    {
     "name": "stdout",
     "output_type": "stream",
     "text": [
      "smtp\n"
     ]
    }
   ],
   "source": [
    "print(socket.getservbyport(25, 'tcp'))"
   ]
  },
  {
   "cell_type": "code",
   "execution_count": 20,
   "metadata": {},
   "outputs": [
    {
     "name": "stdout",
     "output_type": "stream",
     "text": [
      "domain\n"
     ]
    }
   ],
   "source": [
    "print(socket.getservbyport(53, 'tcp'))"
   ]
  },
  {
   "cell_type": "code",
   "execution_count": 21,
   "metadata": {},
   "outputs": [
    {
     "name": "stdout",
     "output_type": "stream",
     "text": [
      "default timeout: None\n",
      "current timeout: 1000.0\n"
     ]
    }
   ],
   "source": [
    "# socket timeout\n",
    "s = socket.socket(socket.AF_INET, socket.SOCK_STREAM)\n",
    "print(f'default timeout: {s.gettimeout()}')\n",
    "s.settimeout(1000)\n",
    "print(f'current timeout: {s.gettimeout()}')"
   ]
  },
  {
   "cell_type": "code",
   "execution_count": 22,
   "metadata": {},
   "outputs": [],
   "source": [
    "# socket.error exceptions\n",
    "\n",
    "try:\n",
    "  s = socket.socket(socket.AF_INET, socket.SOCK_STREAM)\n",
    "except socket.error as e:\n",
    "  print(f'Error creating socket: {e}')\n"
   ]
  },
  {
   "cell_type": "code",
   "execution_count": 23,
   "metadata": {},
   "outputs": [
    {
     "name": "stdout",
     "output_type": "stream",
     "text": [
      "error connecting to www.googlexxx.com:80\n"
     ]
    }
   ],
   "source": [
    "host = 'www.googlexxx.com'\n",
    "port = 80\n",
    "\n",
    "try:\n",
    "  s = socket.socket(socket.AF_INET, socket.SOCK_STREAM)\n",
    "except socket.error as e:\n",
    "  print(f'Error creating socket: {e}')\n",
    "\n",
    "try:\n",
    "  s.connect((host, port))\n",
    "except socket.gaierror as e:\n",
    "  print(f'error connecting to {host}:{port}')\n",
    "except socket.error as e:\n",
    "  print(f'Connection error: {e}')\n"
   ]
  },
  {
   "cell_type": "code",
   "execution_count": 24,
   "metadata": {},
   "outputs": [
    {
     "name": "stdout",
     "output_type": "stream",
     "text": [
      "HTTP/1.1 500 Domain Not Found\n",
      "Connection: close\n",
      "Content-Length: 221\n",
      "Server: Varnish\n",
      "Retry-After: 0\n",
      "content-type: text/html\n",
      "Cache-Control: private, no-cache\n",
      "X-Served-By: cache-akl10328-AKL\n",
      "Accept-Ranges: bytes\n",
      "Date: Tue, 13 Sep 2022 05:43:00 GMT\n",
      "Via: 1.1 varnish\n",
      "\n",
      "\n",
      "<html>\n",
      "<head>\n",
      "<title>Fastly error: unknown domain </title>\n",
      "</head>\n",
      "<body>\n",
      "<p>Fastly error: unknown domain: . Please check that this domain has been added to a service.</p>\n",
      "<p>Details: cache-akl10328-AKL</p></body></html>\n"
     ]
    }
   ],
   "source": [
    "try:\n",
    "  s = socket.socket(socket.AF_INET, socket.SOCK_STREAM)\n",
    "except socket.error as e:\n",
    "  print(f'Error creating socket: {e}')\n",
    "\n",
    "host = 'www.python.org'\n",
    "port = 80\n",
    "\n",
    "try:\n",
    "  s.connect((host, port))\n",
    "except socket.gaierror as e:\n",
    "  print(f'error connecting to {host}:{port}')\n",
    "except socket.error as e:\n",
    "  print(f'Connection error: {e}')\n",
    "\n",
    "filename = 'index.html'\n",
    "try:\n",
    "  msg = f\"GET {filename} HTTP/1.0\\r\\n\\r\\n\"\n",
    "  s.sendall(msg.encode('utf-8'))\n",
    "except socket.error as e:\n",
    "  print(f\"Error sending data: {e}\")\n",
    "\n",
    "while 1:\n",
    "\n",
    "  try:\n",
    "    buf = s.recv(2048)\n",
    "  except socket.error as e:\n",
    "    print(\"Error receiving data: %s\" % e)\n",
    "  if not len(buf):\n",
    "    break\n",
    "  # write the received data\n",
    "  print(buf.decode('utf-8'))\n"
   ]
  },
  {
   "cell_type": "code",
   "execution_count": 25,
   "metadata": {},
   "outputs": [
    {
     "name": "stdout",
     "output_type": "stream",
     "text": [
      "Buffer size [Before]: 65536\n",
      "Buffer size [After]: 4096\n"
     ]
    }
   ],
   "source": [
    "# modify buffer size\n",
    "SEND_BUF_SIZE = 4096\n",
    "RECV_BUF_SIZE = 4096\n",
    "\n",
    "s = socket.socket(socket.AF_INET, socket.SOCK_STREAM)\n",
    "# Get the size of the socket's send buffer\n",
    "bufsize = s.getsockopt(socket.SOL_SOCKET, socket.SO_SNDBUF)\n",
    "print(f\"Buffer size [Before]: {bufsize}\")\n",
    "s.setsockopt(socket.SOL_TCP,\n",
    "                socket.TCP_NODELAY, 1)\n",
    "s.setsockopt(\n",
    "    socket.SOL_SOCKET,\n",
    "    socket.SO_SNDBUF,\n",
    "    SEND_BUF_SIZE)\n",
    "s.setsockopt(\n",
    "    socket.SOL_SOCKET,\n",
    "    socket.SO_RCVBUF,\n",
    "    RECV_BUF_SIZE)\n",
    "bufsize = s.getsockopt(socket.SOL_SOCKET, socket.SO_SNDBUF)\n",
    "print(f\"Buffer size [After]: {bufsize}\")"
   ]
  },
  {
   "cell_type": "code",
   "execution_count": 26,
   "metadata": {},
   "outputs": [
    {
     "name": "stdout",
     "output_type": "stream",
     "text": [
      "Trivial Server launched on socket: ('127.0.0.1', 63751)\n"
     ]
    },
    {
     "ename": "KeyboardInterrupt",
     "evalue": "",
     "output_type": "error",
     "traceback": [
      "\u001b[1;31m---------------------------------------------------------------------------\u001b[0m",
      "\u001b[1;31mKeyboardInterrupt\u001b[0m                         Traceback (most recent call last)",
      "Cell \u001b[1;32mIn [26], line 21\u001b[0m\n\u001b[0;32m     19\u001b[0m \u001b[38;5;28mprint\u001b[39m(\u001b[38;5;124mf\u001b[39m\u001b[38;5;124m\"\u001b[39m\u001b[38;5;124mTrivial Server launched on socket: \u001b[39m\u001b[38;5;132;01m{\u001b[39;00m\u001b[38;5;28mstr\u001b[39m(socket_address)\u001b[38;5;132;01m}\u001b[39;00m\u001b[38;5;124m\"\u001b[39m)\n\u001b[0;32m     20\u001b[0m \u001b[38;5;28;01mwhile\u001b[39;00m(\u001b[38;5;241m1\u001b[39m):\n\u001b[1;32m---> 21\u001b[0m   \u001b[43ms\u001b[49m\u001b[38;5;241;43m.\u001b[39;49m\u001b[43mlisten\u001b[49m\u001b[43m(\u001b[49m\u001b[38;5;241;43m1\u001b[39;49m\u001b[43m)\u001b[49m\n",
      "\u001b[1;31mKeyboardInterrupt\u001b[0m: "
     ]
    }
   ],
   "source": [
    "# change socket mode(blocking/non-blocking)\n",
    "'''\n",
    "By default, TCP sockets are placed in a blocking mode. This means the control is not\n",
    "returned to your program until some specific operation is complete. If you call the\n",
    "connect() API, the connection blocks your program until the operation is complete. On\n",
    "many occasions, you don't want to keep your program waiting forever, either for a response\n",
    "from the server or for any error to stop the operation. For example, when you write a web\n",
    "browser client that connects to a web server, you should consider a stop functionality that\n",
    "can cancel the connection process in the middle of this operation. This can be achieved by\n",
    "placing the socket in the non-blocking mode.\n",
    "'''\n",
    "# blocking mode enabled\n",
    "s = socket.socket(socket.AF_INET,\n",
    "                  socket.SOCK_STREAM)\n",
    "s.setblocking(1)\n",
    "s.settimeout(0.5)\n",
    "s.bind((\"127.0.0.1\", 0))\n",
    "socket_address = s.getsockname()\n",
    "print(f\"Trivial Server launched on socket: {str(socket_address)}\")\n",
    "while(1):\n",
    "  s.listen(1)\n"
   ]
  },
  {
   "cell_type": "code",
   "execution_count": null,
   "metadata": {},
   "outputs": [],
   "source": []
  }
 ],
 "metadata": {
  "kernelspec": {
   "display_name": "Python 3.10.6 64-bit",
   "language": "python",
   "name": "python3"
  },
  "language_info": {
   "codemirror_mode": {
    "name": "ipython",
    "version": 3
   },
   "file_extension": ".py",
   "mimetype": "text/x-python",
   "name": "python",
   "nbconvert_exporter": "python",
   "pygments_lexer": "ipython3",
   "version": "3.10.6"
  },
  "orig_nbformat": 4,
  "vscode": {
   "interpreter": {
    "hash": "b82c3b0e68534c289064f83aa30ba4b209bb5b0adf9cc402f54a2224cb2ba2e7"
   }
  }
 },
 "nbformat": 4,
 "nbformat_minor": 2
}
